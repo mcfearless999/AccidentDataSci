{
 "cells": [
  {
   "cell_type": "markdown",
   "metadata": {},
   "source": [
    "__Research Q:__ <br> Out of all accidents that occur in intersections what is the distribution of accidents by intersection type?"
   ]
  },
  {
   "cell_type": "markdown",
   "metadata": {},
   "source": []
  },
  {
   "cell_type": "code",
   "execution_count": 6,
   "metadata": {},
   "outputs": [],
   "source": [
    "import missingno as msno\n",
    "\n",
    "import pandas as pd\n",
    "from pprint import pprint"
   ]
  },
  {
   "cell_type": "code",
   "execution_count": 7,
   "metadata": {},
   "outputs": [],
   "source": [
    "df = pd.read_csv('Multnomah.csv',low_memory=False)"
   ]
  },
  {
   "cell_type": "code",
   "execution_count": 8,
   "metadata": {},
   "outputs": [
    {
     "name": "stdout",
     "output_type": "stream",
     "text": [
      "Index(['Crash ID', 'Record Type', 'Vehicle ID', 'Participant ID',\n",
      "       'Participant Display Seq#', 'Vehicle Coded Seq#',\n",
      "       'Participant Vehicle Seq#', 'Serial #', 'Crash Month', 'Crash Day',\n",
      "       ...\n",
      "       'Participant Cause 1 Code', 'Participant Cause 2 Code',\n",
      "       'Participant Cause 3 Code', 'Participant Event 1 Code',\n",
      "       'Participant Event 2 Code', 'Participant Event 3 Code',\n",
      "       'BAC Test Results Code', 'Alcohol Use Reported', 'Drug Use Reported',\n",
      "       'Participant Striker Flag'],\n",
      "      dtype='object', length=152)\n"
     ]
    }
   ],
   "source": [
    "pprint(df.columns)"
   ]
  },
  {
   "cell_type": "code",
   "execution_count": 11,
   "metadata": {},
   "outputs": [
    {
     "data": {
      "text/html": [
       "<div>\n",
       "<style scoped>\n",
       "    .dataframe tbody tr th:only-of-type {\n",
       "        vertical-align: middle;\n",
       "    }\n",
       "\n",
       "    .dataframe tbody tr th {\n",
       "        vertical-align: top;\n",
       "    }\n",
       "\n",
       "    .dataframe thead th {\n",
       "        text-align: right;\n",
       "    }\n",
       "</style>\n",
       "<table border=\"1\" class=\"dataframe\">\n",
       "  <thead>\n",
       "    <tr style=\"text-align: right;\">\n",
       "      <th></th>\n",
       "      <th>Crash ID</th>\n",
       "      <th>Record Type</th>\n",
       "      <th>Vehicle ID</th>\n",
       "      <th>Participant ID</th>\n",
       "      <th>Participant Display Seq#</th>\n",
       "      <th>Vehicle Coded Seq#</th>\n",
       "      <th>Participant Vehicle Seq#</th>\n",
       "      <th>Serial #</th>\n",
       "      <th>Crash Month</th>\n",
       "      <th>Crash Day</th>\n",
       "      <th>...</th>\n",
       "      <th>Participant Cause 1 Code</th>\n",
       "      <th>Participant Cause 2 Code</th>\n",
       "      <th>Participant Cause 3 Code</th>\n",
       "      <th>Participant Event 1 Code</th>\n",
       "      <th>Participant Event 2 Code</th>\n",
       "      <th>Participant Event 3 Code</th>\n",
       "      <th>BAC Test Results Code</th>\n",
       "      <th>Alcohol Use Reported</th>\n",
       "      <th>Drug Use Reported</th>\n",
       "      <th>Participant Striker Flag</th>\n",
       "    </tr>\n",
       "  </thead>\n",
       "  <tbody>\n",
       "    <tr>\n",
       "      <th>0</th>\n",
       "      <td>1449628</td>\n",
       "      <td>1</td>\n",
       "      <td>NaN</td>\n",
       "      <td>NaN</td>\n",
       "      <td>NaN</td>\n",
       "      <td>NaN</td>\n",
       "      <td>NaN</td>\n",
       "      <td>149.0</td>\n",
       "      <td>1.0</td>\n",
       "      <td>5.0</td>\n",
       "      <td>...</td>\n",
       "      <td>NaN</td>\n",
       "      <td>NaN</td>\n",
       "      <td>NaN</td>\n",
       "      <td>NaN</td>\n",
       "      <td>NaN</td>\n",
       "      <td>NaN</td>\n",
       "      <td>NaN</td>\n",
       "      <td>NaN</td>\n",
       "      <td>NaN</td>\n",
       "      <td>NaN</td>\n",
       "    </tr>\n",
       "    <tr>\n",
       "      <th>1</th>\n",
       "      <td>1449628</td>\n",
       "      <td>2</td>\n",
       "      <td>2741421.0</td>\n",
       "      <td>NaN</td>\n",
       "      <td>NaN</td>\n",
       "      <td>1</td>\n",
       "      <td>NaN</td>\n",
       "      <td>NaN</td>\n",
       "      <td>NaN</td>\n",
       "      <td>NaN</td>\n",
       "      <td>...</td>\n",
       "      <td>NaN</td>\n",
       "      <td>NaN</td>\n",
       "      <td>NaN</td>\n",
       "      <td>NaN</td>\n",
       "      <td>NaN</td>\n",
       "      <td>NaN</td>\n",
       "      <td>NaN</td>\n",
       "      <td>NaN</td>\n",
       "      <td>NaN</td>\n",
       "      <td>NaN</td>\n",
       "    </tr>\n",
       "    <tr>\n",
       "      <th>2</th>\n",
       "      <td>1449628</td>\n",
       "      <td>3</td>\n",
       "      <td>2741421.0</td>\n",
       "      <td>3130945.0</td>\n",
       "      <td>1.0</td>\n",
       "      <td>1</td>\n",
       "      <td>1.0</td>\n",
       "      <td>NaN</td>\n",
       "      <td>NaN</td>\n",
       "      <td>NaN</td>\n",
       "      <td>...</td>\n",
       "      <td>13.0</td>\n",
       "      <td></td>\n",
       "      <td></td>\n",
       "      <td></td>\n",
       "      <td></td>\n",
       "      <td></td>\n",
       "      <td></td>\n",
       "      <td></td>\n",
       "      <td></td>\n",
       "      <td>0.0</td>\n",
       "    </tr>\n",
       "    <tr>\n",
       "      <th>3</th>\n",
       "      <td>1449628</td>\n",
       "      <td>2</td>\n",
       "      <td>2741422.0</td>\n",
       "      <td>NaN</td>\n",
       "      <td>NaN</td>\n",
       "      <td>2</td>\n",
       "      <td>NaN</td>\n",
       "      <td>NaN</td>\n",
       "      <td>NaN</td>\n",
       "      <td>NaN</td>\n",
       "      <td>...</td>\n",
       "      <td>NaN</td>\n",
       "      <td>NaN</td>\n",
       "      <td>NaN</td>\n",
       "      <td>NaN</td>\n",
       "      <td>NaN</td>\n",
       "      <td>NaN</td>\n",
       "      <td>NaN</td>\n",
       "      <td>NaN</td>\n",
       "      <td>NaN</td>\n",
       "      <td>NaN</td>\n",
       "    </tr>\n",
       "    <tr>\n",
       "      <th>4</th>\n",
       "      <td>1449628</td>\n",
       "      <td>3</td>\n",
       "      <td>2741422.0</td>\n",
       "      <td>3130946.0</td>\n",
       "      <td>2.0</td>\n",
       "      <td>2</td>\n",
       "      <td>1.0</td>\n",
       "      <td>NaN</td>\n",
       "      <td>NaN</td>\n",
       "      <td>NaN</td>\n",
       "      <td>...</td>\n",
       "      <td>0.0</td>\n",
       "      <td></td>\n",
       "      <td></td>\n",
       "      <td></td>\n",
       "      <td></td>\n",
       "      <td></td>\n",
       "      <td></td>\n",
       "      <td></td>\n",
       "      <td></td>\n",
       "      <td>0.0</td>\n",
       "    </tr>\n",
       "  </tbody>\n",
       "</table>\n",
       "<p>5 rows × 152 columns</p>\n",
       "</div>"
      ],
      "text/plain": [
       "   Crash ID  Record Type  Vehicle ID  Participant ID  \\\n",
       "0   1449628            1         NaN             NaN   \n",
       "1   1449628            2   2741421.0             NaN   \n",
       "2   1449628            3   2741421.0       3130945.0   \n",
       "3   1449628            2   2741422.0             NaN   \n",
       "4   1449628            3   2741422.0       3130946.0   \n",
       "\n",
       "   Participant Display Seq# Vehicle Coded Seq#  Participant Vehicle Seq#  \\\n",
       "0                       NaN                NaN                       NaN   \n",
       "1                       NaN                  1                       NaN   \n",
       "2                       1.0                  1                       1.0   \n",
       "3                       NaN                  2                       NaN   \n",
       "4                       2.0                  2                       1.0   \n",
       "\n",
       "   Serial #  Crash Month  Crash Day           ...             \\\n",
       "0     149.0          1.0        5.0           ...              \n",
       "1       NaN          NaN        NaN           ...              \n",
       "2       NaN          NaN        NaN           ...              \n",
       "3       NaN          NaN        NaN           ...              \n",
       "4       NaN          NaN        NaN           ...              \n",
       "\n",
       "   Participant Cause 1 Code  Participant Cause 2 Code  \\\n",
       "0                       NaN                       NaN   \n",
       "1                       NaN                       NaN   \n",
       "2                      13.0                             \n",
       "3                       NaN                       NaN   \n",
       "4                       0.0                             \n",
       "\n",
       "   Participant Cause 3 Code  Participant Event 1 Code  \\\n",
       "0                       NaN                       NaN   \n",
       "1                       NaN                       NaN   \n",
       "2                                                       \n",
       "3                       NaN                       NaN   \n",
       "4                                                       \n",
       "\n",
       "   Participant Event 2 Code  Participant Event 3 Code  BAC Test Results Code  \\\n",
       "0                       NaN                       NaN                    NaN   \n",
       "1                       NaN                       NaN                    NaN   \n",
       "2                                                                              \n",
       "3                       NaN                       NaN                    NaN   \n",
       "4                                                                              \n",
       "\n",
       "   Alcohol Use Reported Drug Use Reported Participant Striker Flag  \n",
       "0                   NaN               NaN                      NaN  \n",
       "1                   NaN               NaN                      NaN  \n",
       "2                                                              0.0  \n",
       "3                   NaN               NaN                      NaN  \n",
       "4                                                              0.0  \n",
       "\n",
       "[5 rows x 152 columns]"
      ]
     },
     "execution_count": 11,
     "metadata": {},
     "output_type": "execute_result"
    }
   ],
   "source": [
    "df.head()"
   ]
  },
  {
   "cell_type": "code",
   "execution_count": 9,
   "metadata": {},
   "outputs": [
    {
     "data": {
      "text/plain": [
       "<matplotlib.axes._subplots.AxesSubplot at 0x1a1a70a780>"
      ]
     },
     "execution_count": 9,
     "metadata": {},
     "output_type": "execute_result"
    },
    {
     "data": {
      "image/png": "[encoded data removed]",
      "text/plain": [
       "<Figure size 1800x720 with 2 Axes>"
      ]
     },
     "metadata": {},
     "output_type": "display_data"
    }
   ],
   "source": [
    "msno.matrix(df,color=(.3, .3, .5))"
   ]
  },
  {
   "cell_type": "code",
   "execution_count": 10,
   "metadata": {},
   "outputs": [
    {
     "data": {
      "text/plain": [
       "array([' ', nan, '1', '3', '5', '4', '6', '2', '0'], dtype=object)"
      ]
     },
     "execution_count": 10,
     "metadata": {},
     "output_type": "execute_result"
    }
   ],
   "source": [
    "df['Intersection Type'].unique()"
   ]
  },
  {
   "cell_type": "raw",
   "metadata": {},
   "source": [
    "' '\tNot intersectional\n",
    " 0\tUnknown intersection type \n",
    " 1\tCross \n",
    " 2\t2-legged\n",
    " 3\t3-legged\n",
    " 4\t4-legged\n",
    " 5\t5-legged\n",
    " 6\t6-legged\n",
    " 7\t7-legged\n",
    " 8\t8-legged\n",
    " 9\t9-legged"
   ]
  },
  {
   "cell_type": "code",
   "execution_count": 27,
   "metadata": {},
   "outputs": [],
   "source": [
    "l = df.columns\n",
    "for m in l:\n",
    "    print(m)"
   ]
  },
  {
   "cell_type": "raw",
   "metadata": {},
   "source": [
    "Predict total number of fatal crashes\n",
    "Predict proportion of crashes based on traffic character\n",
    "Predict proportion of crashes based on impairment\n",
    "Intersections with most fatalities\n",
    "Number of crashes and property damage\n",
    "Predict percentage of accidents that are fatal for different speed limit intervals\n",
    "Which intersections will have the most bicycle related injuries/fatalities"
   ]
  },
  {
   "cell_type": "raw",
   "metadata": {},
   "source": [
    "Proportion of crashes that occur in each category of road characters.\n",
    "    a) number of crashes for irregular intersections (>4 legs) and roundabouts\n",
    "    b) percentages of accidents that are fatal for different speed limit intervals."
   ]
  }
 ],
 "metadata": {
  "kernelspec": {
   "display_name": "Python 3",
   "language": "python",
   "name": "python3"
  },
  "language_info": {
   "codemirror_mode": {
    "name": "ipython",
    "version": 3
   },
   "file_extension": ".py",
   "mimetype": "text/x-python",
   "name": "python",
   "nbconvert_exporter": "python",
   "pygments_lexer": "ipython3",
   "version": "3.6.5"
  }
 },
 "nbformat": 4,
 "nbformat_minor": 2
}
