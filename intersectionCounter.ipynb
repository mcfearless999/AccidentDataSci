{
 "cells": [
  {
   "cell_type": "code",
   "execution_count": 72,
   "metadata": {
    "scrolled": true
   },
   "outputs": [],
   "source": [
    "\n",
    "def parseSeconds(minutes, seconds):\n",
    "    seconds = str(seconds.replace(\".\",\"\"))\n",
    "    degrees = str(minutes) + \".\" + seconds\n",
    "    return degrees\n",
    "\n",
    "def updateCnt(cnt):\n",
    "    cntInt = int(cnt[2:])\n",
    "    code = cnt[:2]\n",
    "    cntInt = cntInt + 1\n",
    "    cnt = code+str(cntInt)\n",
    "    return cnt\n",
    "\n",
    "UniqueIntersections = {}\n",
    "IntersectionCnt= []\n",
    "for i in range(0,9):\n",
    "    IntersectionCnt.append(0)\n",
    "    \n",
    "\n",
    "#Old Index\tCrash Type\tCollision Type\tCrash Severity\tIntersection Type\tCrash ID\tCrash Year\tLatitude Degrees\tLatitude Minutes\tLatitude Seconds\tLongitude Degrees\tLongitude Minutes\tLongitude Seconds\n",
    "FileIn = open(\"accidentlocations.csv\", 'r')\n",
    "FileOut = open(\"intersectionLoc.csv\", 'w')\n",
    "Schema = \"Intersection Type,Latitude,Longitude, number of accidents\\n\"\n",
    "for line in FileIn:\n",
    "    temp = line.split(',')\n",
    "    if (temp[5].find(\" \") == -1):\n",
    "        LatInt = temp[8][0:2]\n",
    "        LatMin = temp[9][0:2]\n",
    "        Lat = LatInt + \" \" + parseSeconds(LatMin, temp[10])\n",
    "        LongInt = temp[11][0:4]\n",
    "        LongMin = temp[12][0:2]\n",
    "        Long = LongInt + \" \" + parseSeconds(LongMin, temp[13])\n",
    "        coord = Lat+ \",\"+ Long\n",
    "        cnt = UniqueIntersections.get(coord)\n",
    "        if(cnt is None):\n",
    "            defCnt = temp[5] + \",1\"\n",
    "            UniqueIntersections[coord] = defCnt\n",
    "        else:\n",
    "            cnt = updateCnt(cnt)\n",
    "            UniqueIntersections[coord] = cnt\n",
    "        \n",
    "FileOut.write(Schema)\n",
    "for entry,key in UniqueIntersections.items():\n",
    "    type = int(key[:1])\n",
    "    IntersectionCnt[type] += 1\n",
    "    outStr = str(type) + \",\" + entry.rstrip() + \",\" + key[2:] + '\\n'\n",
    "    #print(outStr)\n",
    "    FileOut.write(outStr)\n",
    "    \n",
    "FileOut.write(\"\\n\\n\\n\\n\\n\")\n",
    "i = 0\n",
    "for num in IntersectionCnt:\n",
    "    \n",
    "    cntStr = str(i) + \",\" + str(num) + '\\n'\n",
    "    i+=1\n",
    "    #print(cntStr)\n",
    "    FileOut.write(cntStr)\n",
    "FileOut.close()"
   ]
  },
  {
   "cell_type": "code",
   "execution_count": null,
   "metadata": {},
   "outputs": [],
   "source": []
  }
 ],
 "metadata": {
  "kernelspec": {
   "display_name": "Python 3",
   "language": "python",
   "name": "python3"
  },
  "language_info": {
   "codemirror_mode": {
    "name": "ipython",
    "version": 3
   },
   "file_extension": ".py",
   "mimetype": "text/x-python",
   "name": "python",
   "nbconvert_exporter": "python",
   "pygments_lexer": "ipython3",
   "version": "3.6.5"
  }
 },
 "nbformat": 4,
 "nbformat_minor": 2
}
