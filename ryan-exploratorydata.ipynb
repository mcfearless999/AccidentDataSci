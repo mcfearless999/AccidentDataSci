{
 "cells": [
  {
   "cell_type": "raw",
   "metadata": {},
   "source": [
    "Proportion of crashes that occur in each category of road characters.\n",
    "    a) number of crashes for irregular intersections (>4 legs) and roundabouts\n",
    "    b) percentages of accidents that are fatal for different speed limit intervals."
   ]
  },
  {
   "cell_type": "markdown",
   "metadata": {},
   "source": [
    "__Research Q:__ <br> Out of all accidents that occur in intersections what is the distribution of accidents by intersection type?"
   ]
  },
  {
   "cell_type": "code",
   "execution_count": 46,
   "metadata": {},
   "outputs": [],
   "source": [
    "import missingno as msno\n",
    "\n",
    "import pandas as pd\n",
    "from pprint import pprint\n",
    "import matplotlib.pyplot as plt"
   ]
  },
  {
   "cell_type": "code",
   "execution_count": 31,
   "metadata": {},
   "outputs": [],
   "source": [
    "accidentsdf = pd.read_csv('Multnomah.csv',low_memory=False)"
   ]
  },
  {
   "cell_type": "code",
   "execution_count": 32,
   "metadata": {},
   "outputs": [
    {
     "name": "stdout",
     "output_type": "stream",
     "text": [
      "Index(['Crash ID', 'Record Type', 'Vehicle ID', 'Participant ID',\n",
      "       'Participant Display Seq#', 'Vehicle Coded Seq#',\n",
      "       'Participant Vehicle Seq#', 'Serial #', 'Crash Month', 'Crash Day',\n",
      "       ...\n",
      "       'Participant Cause 1 Code', 'Participant Cause 2 Code',\n",
      "       'Participant Cause 3 Code', 'Participant Event 1 Code',\n",
      "       'Participant Event 2 Code', 'Participant Event 3 Code',\n",
      "       'BAC Test Results Code', 'Alcohol Use Reported', 'Drug Use Reported',\n",
      "       'Participant Striker Flag'],\n",
      "      dtype='object', length=152)\n"
     ]
    }
   ],
   "source": [
    "pprint(df.columns)"
   ]
  },
  {
   "cell_type": "code",
   "execution_count": 33,
   "metadata": {},
   "outputs": [
    {
     "name": "stdout",
     "output_type": "stream",
     "text": [
      "<class 'pandas.core.frame.DataFrame'>\n",
      "RangeIndex: 283832 entries, 0 to 283831\n",
      "Columns: 152 entries, Crash ID to Participant Striker Flag\n",
      "dtypes: float64(91), int64(2), object(59)\n",
      "memory usage: 329.2+ MB\n"
     ]
    }
   ],
   "source": [
    "accidentsdf.info()"
   ]
  },
  {
   "cell_type": "code",
   "execution_count": 40,
   "metadata": {},
   "outputs": [
    {
     "name": "stdout",
     "output_type": "stream",
     "text": [
      "Crash ID|Record Type|Vehicle ID|Participant ID|Participant Display Seq#|Vehicle Coded Seq#|Participant Vehicle Seq#|Serial #|Crash Month|Crash Day|Crash Year|Week Day Code|Crash Hour|County Code|City Section ID|Urban Area Code|Functional Class Code|NHS Flag|Highway Number|Highway Suffix|Roadway Number|Highway Component|Mileage Type|Connection Number|Linear Reference System (LRS)|Latitude Degrees|Latitude Minutes|Latitude Seconds|Longitude Degrees|Longitude Minutes|Longitude Seconds|Special Jurisdiction|Jurisdiction Group|Street Number|Nearest Intersecting Street Number|Intersection Sequence Number|Distance from Intersection|Direction From Intersection|Milepoint|Posted Speed Limit|Road Character|Off Roadway Flag|Intersection Type|Intersection Related Flag|Roundabout Flag|Driveway Related Flag|Number of Lanes|Number of Turning Legs|Median Type|Impact Location|Crash Type|Collision Type|Crash Severity|Weather Condition|Road Surface Condition|Light Condition|Traffic Control Device (TCD)|TCD Functional Flag|Investigating Agency|Crash Level Event 1 Code|Crash Level Event 2 Code|Crash Level Event 3 Code|Crash Level Cause 1 Code|Crash Level Cause 2 Code|Crash Level Cause 3 Code|School Zone Indicator|Work Zone Indicator|Alcohol-Involved Flag|Drugs Involved Flag|Speed Involved Flag|Crash Level Hit & Run Flag|Population Range Code|Road Control|Route Type|Route Number|Region ID|District ID|Segment Marker ID|Segment Point LRS Measure|Unlocatable Flag|Total Vehicle Count|Total Fatality Count|Total Serious Injury (Inj-A) Count|Total Moderate Injury (Inj-B) Count|Total Minor Injury (Inj-C) Count|Total Non-Fatal Injury Count|Total Count of Un-Injured  Children Age 00-04|Total Count of Un-Injured Persons|Total Pedestrian Count|Total Pedestrian Fatality Count|Total Pedestrian Non-Fatal Injury Count|Total Pedalcyclist Count|Total Pedalcyclist Fatality Count|Total Pedalcyclist Non-Fatal Injury Count|Total Unknown Non-Motorist Count|Total Unknown Non-Motorist Fatality Count|Total Unknown Non-Motorist Injury Count|Total Vehicle Occupant Count|Total Count of Persons Involved|Total Quantity of Persons Using Safety Equipment  |Total Quantity of Persons Not Using Safety Equipment|Total Quantity of Persons Safety Equipment \"Use Unknown\"|Vehicle Ownership Code|Vehicle Special Use Code|Vehicle Type Code|Emergency Use Flag|Number of Trailers|Vehicle Movement Code|Vehicle Travel Direction From|Vehicle Travel Direction To|Vehicle Action Code|Vehicle Cause 1 Code|Vehicle Cause 2 Code|Vehicle Cause 3 Code|Vehicle Event 1 Code|Vehicle Event 2 Code|Vehicle Event 3 Code|Vehicle Exceeded Posted Speed Flag|Vehicle Hit & Run Flag|Safety Equipment Used Quantity|Safety Equipment Un-used Quantity|Safety Equipment Use Unknown Quantity|Vehicle Occupant Count|Vehicle Striking Flag|Participant Type Code|Participant Hit & Run Flag|Public Employee Flag|Sex|Age|Driver License Status|Driver Residence|Injury Severity|Participant Safety Equipment Use Code|Airbag Deployment|Non-Motorist Movement Code|Non-Motorist Travel Direction From|Non-Motorist Travel Direction To|Non-Motorist Location|Participant Action|Participant Error 1 Code|Participant Error 2 Code|Participant Error 3 Code|Participant Cause 1 Code|Participant Cause 2 Code|Participant Cause 3 Code|Participant Event 1 Code|Participant Event 2 Code|Participant Event 3 Code|BAC Test Results Code|Alcohol Use Reported|Drug Use Reported|Participant Striker Flag|"
     ]
    }
   ],
   "source": [
    "l = df.columns\n",
    "for m in l:\n",
    "    print(m, end='|')"
   ]
  },
  {
   "cell_type": "code",
   "execution_count": 34,
   "metadata": {},
   "outputs": [
    {
     "data": {
      "text/plain": [
       "<matplotlib.axes._subplots.AxesSubplot at 0x1a1b8f1400>"
      ]
     },
     "execution_count": 34,
     "metadata": {},
     "output_type": "execute_result"
    },
    {
     "data": {
      "image/png": "[encoded data removed]",
      "text/plain": [
       "<Figure size 1800x720 with 2 Axes>"
      ]
     },
     "metadata": {},
     "output_type": "display_data"
    }
   ],
   "source": [
    "msno.matrix(accidentsdf,color=(.3, .3, .5))"
   ]
  },
  {
   "cell_type": "code",
   "execution_count": 35,
   "metadata": {},
   "outputs": [
    {
     "data": {
      "text/plain": [
       "array([' ', nan, '1', '3', '5', '4', '6', '2', '0'], dtype=object)"
      ]
     },
     "execution_count": 35,
     "metadata": {},
     "output_type": "execute_result"
    }
   ],
   "source": [
    "accidentsdf['Intersection Type'].unique()"
   ]
  },
  {
   "cell_type": "raw",
   "metadata": {},
   "source": [
    "' '\tNot intersectional\n",
    " 0\tUnknown intersection type \n",
    " 1\tCross \n",
    " 2\t2-legged\n",
    " 3\t3-legged\n",
    " 4\t4-legged\n",
    " 5\t5-legged\n",
    " 6\t6-legged\n",
    " 7\t7-legged\n",
    " 8\t8-legged\n",
    " 9\t9-legged"
   ]
  },
  {
   "cell_type": "code",
   "execution_count": 68,
   "metadata": {},
   "outputs": [],
   "source": [
    "usedcol = ['Crash Type','Collision Type','Crash Severity','Intersection Type','Crash ID','Crash Year']\n",
    "accidentsdf = accidentsdf[usedcol].dropna().reset_index()\n",
    "accidentsdf.columns = ['Old Index','Crash Type','Collision Type','Crash Severity','Intersection Type','Crash ID','Crash Year']\n",
    "accidentsdf.to_csv('accidentintersections.csv')"
   ]
  },
  {
   "cell_type": "code",
   "execution_count": 69,
   "metadata": {},
   "outputs": [
    {
     "name": "stdout",
     "output_type": "stream",
     "text": [
      "<class 'pandas.core.frame.DataFrame'>\n",
      "RangeIndex: 54208 entries, 0 to 54207\n",
      "Data columns (total 7 columns):\n",
      "Old Index            54208 non-null int64\n",
      "Crash Type           54208 non-null object\n",
      "Collision Type       54208 non-null object\n",
      "Crash Severity       54208 non-null float64\n",
      "Intersection Type    54208 non-null object\n",
      "Crash ID             54208 non-null int64\n",
      "Crash Year           54208 non-null float64\n",
      "dtypes: float64(2), int64(2), object(3)\n",
      "memory usage: 2.9+ MB\n"
     ]
    }
   ],
   "source": [
    "accidentsdf.info()"
   ]
  },
  {
   "cell_type": "code",
   "execution_count": 64,
   "metadata": {},
   "outputs": [
    {
     "data": {
      "image/png": "[encoded data removed]",
      "text/plain": [
       "<Figure size 1800x720 with 2 Axes>"
      ]
     },
     "metadata": {},
     "output_type": "display_data"
    }
   ],
   "source": [
    "msno.matrix(accidentsdf,color=(.3, .3, .5))\n",
    "plt.show()"
   ]
  },
  {
   "cell_type": "code",
   "execution_count": 65,
   "metadata": {},
   "outputs": [],
   "source": [
    "types = dict(accidentsdf['Intersection Type'].value_counts())"
   ]
  },
  {
   "cell_type": "code",
   "execution_count": 85,
   "metadata": {},
   "outputs": [
    {
     "data": {
      "text/plain": [
       "[(' ', 27127),\n",
       " ('1', 18011),\n",
       " ('3', 7300),\n",
       " ('5', 860),\n",
       " ('4', 655),\n",
       " ('6', 155),\n",
       " ('0', 57),\n",
       " ('2', 43)]"
      ]
     },
     "execution_count": 85,
     "metadata": {},
     "output_type": "execute_result"
    }
   ],
   "source": [
    "list(types.items())"
   ]
  },
  {
   "cell_type": "code",
   "execution_count": 86,
   "metadata": {},
   "outputs": [
    {
     "ename": "TypeError",
     "evalue": "<lambda>() missing 1 required positional argument: 'height'",
     "output_type": "error",
     "traceback": [
      "\u001b[0;31m------------------------------------------------------------------------\u001b[0m",
      "\u001b[0;31mTypeError\u001b[0m                              Traceback (most recent call last)",
      "\u001b[0;32m<ipython-input-86-a36faa6bb8f1>\u001b[0m in \u001b[0;36m<module>\u001b[0;34m()\u001b[0m\n\u001b[0;32m----> 1\u001b[0;31m \u001b[0mplt\u001b[0m\u001b[0;34m.\u001b[0m\u001b[0mbar\u001b[0m\u001b[0;34m(\u001b[0m\u001b[0mlist\u001b[0m\u001b[0;34m(\u001b[0m\u001b[0mtypes\u001b[0m\u001b[0;34m.\u001b[0m\u001b[0mitems\u001b[0m\u001b[0;34m(\u001b[0m\u001b[0;34m)\u001b[0m\u001b[0;34m)\u001b[0m\u001b[0;34m)\u001b[0m\u001b[0;34m\u001b[0m\u001b[0m\n\u001b[0m",
      "\u001b[0;32m~/anaconda3/lib/python3.6/site-packages/matplotlib/pyplot.py\u001b[0m in \u001b[0;36mbar\u001b[0;34m(*args, **kwargs)\u001b[0m\n\u001b[1;32m   2768\u001b[0m                       mplDeprecation)\n\u001b[1;32m   2769\u001b[0m     \u001b[0;32mtry\u001b[0m\u001b[0;34m:\u001b[0m\u001b[0;34m\u001b[0m\u001b[0m\n\u001b[0;32m-> 2770\u001b[0;31m         \u001b[0mret\u001b[0m \u001b[0;34m=\u001b[0m \u001b[0max\u001b[0m\u001b[0;34m.\u001b[0m\u001b[0mbar\u001b[0m\u001b[0;34m(\u001b[0m\u001b[0;34m*\u001b[0m\u001b[0margs\u001b[0m\u001b[0;34m,\u001b[0m \u001b[0;34m**\u001b[0m\u001b[0mkwargs\u001b[0m\u001b[0;34m)\u001b[0m\u001b[0;34m\u001b[0m\u001b[0m\n\u001b[0m\u001b[1;32m   2771\u001b[0m     \u001b[0;32mfinally\u001b[0m\u001b[0;34m:\u001b[0m\u001b[0;34m\u001b[0m\u001b[0m\n\u001b[1;32m   2772\u001b[0m         \u001b[0max\u001b[0m\u001b[0;34m.\u001b[0m\u001b[0m_hold\u001b[0m \u001b[0;34m=\u001b[0m \u001b[0mwashold\u001b[0m\u001b[0;34m\u001b[0m\u001b[0m\n",
      "\u001b[0;32m~/anaconda3/lib/python3.6/site-packages/matplotlib/__init__.py\u001b[0m in \u001b[0;36minner\u001b[0;34m(ax, *args, **kwargs)\u001b[0m\n\u001b[1;32m   1853\u001b[0m                         \u001b[0;34m\"the Matplotlib list!)\"\u001b[0m \u001b[0;34m%\u001b[0m \u001b[0;34m(\u001b[0m\u001b[0mlabel_namer\u001b[0m\u001b[0;34m,\u001b[0m \u001b[0mfunc\u001b[0m\u001b[0;34m.\u001b[0m\u001b[0m__name__\u001b[0m\u001b[0;34m)\u001b[0m\u001b[0;34m,\u001b[0m\u001b[0;34m\u001b[0m\u001b[0m\n\u001b[1;32m   1854\u001b[0m                         RuntimeWarning, stacklevel=2)\n\u001b[0;32m-> 1855\u001b[0;31m             \u001b[0;32mreturn\u001b[0m \u001b[0mfunc\u001b[0m\u001b[0;34m(\u001b[0m\u001b[0max\u001b[0m\u001b[0;34m,\u001b[0m \u001b[0;34m*\u001b[0m\u001b[0margs\u001b[0m\u001b[0;34m,\u001b[0m \u001b[0;34m**\u001b[0m\u001b[0mkwargs\u001b[0m\u001b[0;34m)\u001b[0m\u001b[0;34m\u001b[0m\u001b[0m\n\u001b[0m\u001b[1;32m   1856\u001b[0m \u001b[0;34m\u001b[0m\u001b[0m\n\u001b[1;32m   1857\u001b[0m         inner.__doc__ = _add_data_doc(inner.__doc__,\n",
      "\u001b[0;32m~/anaconda3/lib/python3.6/site-packages/matplotlib/axes/_axes.py\u001b[0m in \u001b[0;36mbar\u001b[0;34m(self, *args, **kwargs)\u001b[0m\n\u001b[1;32m   2152\u001b[0m                 \u001b[0;32mbreak\u001b[0m\u001b[0;34m\u001b[0m\u001b[0m\n\u001b[1;32m   2153\u001b[0m         \u001b[0;32melse\u001b[0m\u001b[0;34m:\u001b[0m\u001b[0;34m\u001b[0m\u001b[0m\n\u001b[0;32m-> 2154\u001b[0;31m             \u001b[0;32mraise\u001b[0m \u001b[0mexps\u001b[0m\u001b[0;34m[\u001b[0m\u001b[0;36m0\u001b[0m\u001b[0;34m]\u001b[0m\u001b[0;34m\u001b[0m\u001b[0m\n\u001b[0m\u001b[1;32m   2155\u001b[0m         \u001b[0;31m# if we matched the second-case, then the user passed in\u001b[0m\u001b[0;34m\u001b[0m\u001b[0;34m\u001b[0m\u001b[0m\n\u001b[1;32m   2156\u001b[0m         \u001b[0;31m# left=val as a kwarg which we want to deprecate\u001b[0m\u001b[0;34m\u001b[0m\u001b[0;34m\u001b[0m\u001b[0m\n",
      "\u001b[0;32m~/anaconda3/lib/python3.6/site-packages/matplotlib/axes/_axes.py\u001b[0m in \u001b[0;36mbar\u001b[0;34m(self, *args, **kwargs)\u001b[0m\n\u001b[1;32m   2144\u001b[0m         \u001b[0;32mfor\u001b[0m \u001b[0mmatcher\u001b[0m \u001b[0;32min\u001b[0m \u001b[0mmatchers\u001b[0m\u001b[0;34m:\u001b[0m\u001b[0;34m\u001b[0m\u001b[0m\n\u001b[1;32m   2145\u001b[0m             \u001b[0;32mtry\u001b[0m\u001b[0;34m:\u001b[0m\u001b[0;34m\u001b[0m\u001b[0m\n\u001b[0;32m-> 2146\u001b[0;31m                 \u001b[0mdp\u001b[0m\u001b[0;34m,\u001b[0m \u001b[0mx\u001b[0m\u001b[0;34m,\u001b[0m \u001b[0mheight\u001b[0m\u001b[0;34m,\u001b[0m \u001b[0mwidth\u001b[0m\u001b[0;34m,\u001b[0m \u001b[0my\u001b[0m\u001b[0;34m,\u001b[0m \u001b[0mkwargs\u001b[0m \u001b[0;34m=\u001b[0m \u001b[0mmatcher\u001b[0m\u001b[0;34m(\u001b[0m\u001b[0;34m*\u001b[0m\u001b[0margs\u001b[0m\u001b[0;34m,\u001b[0m \u001b[0;34m**\u001b[0m\u001b[0mkwargs\u001b[0m\u001b[0;34m)\u001b[0m\u001b[0;34m\u001b[0m\u001b[0m\n\u001b[0m\u001b[1;32m   2147\u001b[0m             \u001b[0;32mexcept\u001b[0m \u001b[0mTypeError\u001b[0m \u001b[0;32mas\u001b[0m \u001b[0me\u001b[0m\u001b[0;34m:\u001b[0m\u001b[0;34m\u001b[0m\u001b[0m\n\u001b[1;32m   2148\u001b[0m                 \u001b[0;31m# This can only come from a no-match as there is\u001b[0m\u001b[0;34m\u001b[0m\u001b[0;34m\u001b[0m\u001b[0m\n",
      "\u001b[0;31mTypeError\u001b[0m: <lambda>() missing 1 required positional argument: 'height'"
     ]
    },
    {
     "data": {
      "image/png": "[encoded data removed]",
      "text/plain": [
       "<Figure size 432x288 with 1 Axes>"
      ]
     },
     "metadata": {},
     "output_type": "display_data"
    }
   ],
   "source": [
    "plt.bar(list(types.items()))"
   ]
  },
  {
   "cell_type": "code",
   "execution_count": 67,
   "metadata": {},
   "outputs": [
    {
     "data": {
      "text/html": [
       "<div>\n",
       "<style scoped>\n",
       "    .dataframe tbody tr th:only-of-type {\n",
       "        vertical-align: middle;\n",
       "    }\n",
       "\n",
       "    .dataframe tbody tr th {\n",
       "        vertical-align: top;\n",
       "    }\n",
       "\n",
       "    .dataframe thead th {\n",
       "        text-align: right;\n",
       "    }\n",
       "</style>\n",
       "<table border=\"1\" class=\"dataframe\">\n",
       "  <thead>\n",
       "    <tr style=\"text-align: right;\">\n",
       "      <th></th>\n",
       "      <th>index</th>\n",
       "      <th>Crash Type</th>\n",
       "      <th>Collision Type</th>\n",
       "      <th>Crash Severity</th>\n",
       "      <th>Intersection Type</th>\n",
       "      <th>Crash ID</th>\n",
       "      <th>Crash Year</th>\n",
       "    </tr>\n",
       "  </thead>\n",
       "  <tbody>\n",
       "    <tr>\n",
       "      <th>0</th>\n",
       "      <td>0</td>\n",
       "      <td>8</td>\n",
       "      <td>9</td>\n",
       "      <td>5.0</td>\n",
       "      <td></td>\n",
       "      <td>1449628</td>\n",
       "      <td>2012.0</td>\n",
       "    </tr>\n",
       "    <tr>\n",
       "      <th>1</th>\n",
       "      <td>5</td>\n",
       "      <td>3</td>\n",
       "      <td>0</td>\n",
       "      <td>4.0</td>\n",
       "      <td></td>\n",
       "      <td>1449632</td>\n",
       "      <td>2012.0</td>\n",
       "    </tr>\n",
       "    <tr>\n",
       "      <th>2</th>\n",
       "      <td>9</td>\n",
       "      <td>2</td>\n",
       "      <td>5</td>\n",
       "      <td>5.0</td>\n",
       "      <td>1</td>\n",
       "      <td>1449640</td>\n",
       "      <td>2012.0</td>\n",
       "    </tr>\n",
       "    <tr>\n",
       "      <th>3</th>\n",
       "      <td>14</td>\n",
       "      <td>B</td>\n",
       "      <td>1</td>\n",
       "      <td>4.0</td>\n",
       "      <td>1</td>\n",
       "      <td>1449642</td>\n",
       "      <td>2012.0</td>\n",
       "    </tr>\n",
       "    <tr>\n",
       "      <th>4</th>\n",
       "      <td>20</td>\n",
       "      <td>2</td>\n",
       "      <td>5</td>\n",
       "      <td>5.0</td>\n",
       "      <td></td>\n",
       "      <td>1449649</td>\n",
       "      <td>2012.0</td>\n",
       "    </tr>\n",
       "  </tbody>\n",
       "</table>\n",
       "</div>"
      ],
      "text/plain": [
       "   index Crash Type Collision Type  Crash Severity Intersection Type  \\\n",
       "0      0          8              9             5.0                     \n",
       "1      5          3              0             4.0                     \n",
       "2      9          2              5             5.0                 1   \n",
       "3     14          B              1             4.0                 1   \n",
       "4     20          2              5             5.0                     \n",
       "\n",
       "   Crash ID  Crash Year  \n",
       "0   1449628      2012.0  \n",
       "1   1449632      2012.0  \n",
       "2   1449640      2012.0  \n",
       "3   1449642      2012.0  \n",
       "4   1449649      2012.0  "
      ]
     },
     "execution_count": 67,
     "metadata": {},
     "output_type": "execute_result"
    }
   ],
   "source": [
    "accidentsdf.head()"
   ]
  },
  {
   "cell_type": "code",
   "execution_count": null,
   "metadata": {},
   "outputs": [],
   "source": []
  }
 ],
 "metadata": {
  "kernelspec": {
   "display_name": "Python 3",
   "language": "python",
   "name": "python3"
  },
  "language_info": {
   "codemirror_mode": {
    "name": "ipython",
    "version": 3
   },
   "file_extension": ".py",
   "mimetype": "text/x-python",
   "name": "python",
   "nbconvert_exporter": "python",
   "pygments_lexer": "ipython3",
   "version": "3.6.5"
  }
 },
 "nbformat": 4,
 "nbformat_minor": 2
}
